{
 "cells": [
  {
   "cell_type": "code",
   "execution_count": 15,
   "metadata": {},
   "outputs": [
    {
     "name": "stderr",
     "output_type": "stream",
     "text": [
      "c:\\Users\\User\\anaconda3\\lib\\site-packages\\pandas\\util\\_decorators.py:311: ParserWarning: Length of header or names does not match length of data. This leads to a loss of data with index_col=False.\n",
      "  return func(*args, **kwargs)\n"
     ]
    }
   ],
   "source": [
    "import pandas as pd\n",
    "\n",
    "# Import dataset\n",
    "services = pd.read_csv('Aurora_Office_Fase_2_-_all_versions_-_False_-_2023-09-20-21-01-20.csv', sep=';', index_col = False)\n",
    "\n",
    "# rename variables\n",
    "# Are still missing the ones related to schedule\n",
    "newColumns = {'_coordenadas_latitude': 'lat', \n",
    "              '_coordenadas_longitude' : 'long',  \n",
    "              'pais' : 'ubicacion' , \n",
    "              'punto_reporte' : 'lugar_enc', \n",
    "              'ubicacion' : 'punto_ayud', \n",
    "              'cualotropunto' : 'punto_ayud_otro', \n",
    "              'infraestructura' : 'cuenta_con' , \n",
    "              'sexo' : 'identifica', \n",
    "              'organizacionpertence' : 'org_pert', \n",
    "              'infraestructuradiscapacidad' : 'serv_disca' , \n",
    "              'servicios' : 'serv_tipo'}\n",
    "services_carto = services.rename(columns=newColumns)"
   ]
  },
  {
   "cell_type": "code",
   "execution_count": 16,
   "metadata": {},
   "outputs": [],
   "source": [
    "# serv_tipo id the variable to test (separating by pipe symbol and categorized with number)\n",
    "# Asesoría legal : 1\n",
    "# Alimentación y nutrición : 2\n",
    "# Salud, primeros auxilios o atención médica: 3\n",
    "# Agua potable: 4\n",
    "# Saneamiento: 5\n",
    "# Higiene: 6\n",
    "# Educación: 7\n",
    "# Alojamiento temporal: 8\n",
    "# Servicios de protección : 9\n",
    "# Acompañamiento o apoyo psicosocial: 10\n",
    "# Transporte humanitario: 11\n",
    "# Restablecimiento de contacto familiar : 12\n",
    "# Transferencias monetarias: 13\n",
    "# Otro: 14\n",
    "#\n",
    "services_dict = {\n",
    "  1 :\"Asesoría legal\",\n",
    "  2 :\"Alimentación y nutrición\",\n",
    "  3 :\"Salud, primeros auxilios o atención médica\",\n",
    "  4 :\"Agua potable\",\n",
    "  5 :\"Saneamiento\",\n",
    "  6 :\"Higiene\",\n",
    "  7 :\"Educación\",\n",
    "  8 :\"Alojamiento temporal\",\n",
    "  9 :\"Servicios de protección \",\n",
    "  10 :\"Acompañamiento o apoyo psicosocial\",\n",
    "  11 :\"Transporte humanitario\",\n",
    "  12 :\"Restablecimiento de contacto familiar \",\n",
    "  13:\"Transferencias monetarias\",\n",
    "  14:\"Otro\",\n",
    "}\n",
    "\n",
    "reversed_services_dict = dict( [( x[1].lower().replace(\" \", \"\").replace(\",\",\"\"),x[0])  for x in services_dict.items()])\n",
    "\n",
    "def codifyServices(x: str, services_dict: dict[str, int]):\n",
    "    raw_values = x.split(\" \")\n",
    "    output = []\n",
    "    for value in raw_values:\n",
    "        try:      \n",
    "          codedValue = services_dict[value]\n",
    "          output.append(str(codedValue) )\n",
    "        except Exception as e:\n",
    "            output.append(\"14\")\n",
    "            \n",
    "    return \"|\".join(output)\n",
    "\n",
    "services_carto[\"serv_tipo\"] = services_carto[\"serv_tipo\"].apply(lambda x: codifyServices(x, reversed_services_dict))"
   ]
  },
  {
   "cell_type": "code",
   "execution_count": 19,
   "metadata": {},
   "outputs": [
    {
     "data": {
      "text/plain": [
       "0    14|4|14|14\n",
       "1         14|14\n",
       "2         12|14\n",
       "3       14|8|14\n",
       "Name: serv_tipo, dtype: object"
      ]
     },
     "execution_count": 19,
     "metadata": {},
     "output_type": "execute_result"
    }
   ],
   "source": [
    "services_carto[\"serv_tipo\"]"
   ]
  },
  {
   "cell_type": "code",
   "execution_count": null,
   "metadata": {},
   "outputs": [],
   "source": []
  }
 ],
 "metadata": {
  "kernelspec": {
   "display_name": "base",
   "language": "python",
   "name": "python3"
  },
  "language_info": {
   "codemirror_mode": {
    "name": "ipython",
    "version": 3
   },
   "file_extension": ".py",
   "mimetype": "text/x-python",
   "name": "python",
   "nbconvert_exporter": "python",
   "pygments_lexer": "ipython3",
   "version": "3.9.7"
  },
  "orig_nbformat": 4
 },
 "nbformat": 4,
 "nbformat_minor": 2
}
