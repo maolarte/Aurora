{
  "cells": [
    {
      "cell_type": "code",
      "execution_count": 53,
      "metadata": {},
      "outputs": [
        {
          "name": "stderr",
          "output_type": "stream",
          "text": [
            "C:\\Users\\maola\\AppData\\Local\\Temp\\ipykernel_12792\\246345009.py:4: ParserWarning: Length of header or names does not match length of data. This leads to a loss of data with index_col=False.\n",
            "  services = pd.read_csv('Aurora_Office_Fase_2_-_all_versions_-_False_-_2023-09-20-21-01-20.csv', sep=';', index_col = False)\n"
          ]
        }
      ],
      "source": [
        "import pandas as pd\n",
        "\n",
        "# Import dataset\n",
        "services = pd.read_csv('Aurora_Office_Fase_2_-_all_versions_-_False_-_2023-09-20-21-01-20.csv', sep=';', index_col = False)\n",
        "\n",
        "# rename variables\n",
        "# Are still missing the ones related to schedule\n",
        "newColumns = {'_coordenadas_latitude': 'lat', \n",
        "              '_coordenadas_longitude' : 'long',  \n",
        "              'pais' : 'ubicacion' , \n",
        "              'punto_reporte' : 'lugar_enc', \n",
        "              'ubicacion' : 'punto_ayud', \n",
        "              'cualotropunto' : 'punto_ayud_otro', \n",
        "              'infraestructura' : 'cuenta_con' , \n",
        "              'sexo' : 'identifica', \n",
        "              'organizacionpertence' : 'org_pert', \n",
        "              'infraestructuradiscapacidad' : 'serv_disca' , \n",
        "              'servicios' : 'serv_tipo',\n",
        "              'siserviciosnna' : 'serv_dif_n',\n",
        "              'serviciosnna' : 'cual_serv1',\n",
        "              'otroservicionna' : 'otro_cual_',\n",
        "              'siserviciosmujeres' : 'serv_dif_m',\n",
        "              'serviciosmujeres' : 'cual_ser_2',\n",
        "              'otroserviciomujeres' : 'otro_dif_m',\n",
        "              }\n",
        "services_carto = services.rename(columns=newColumns)\n",
        "#services_carto.head()"
      ]
    },
    {
      "cell_type": "code",
      "execution_count": 21,
      "metadata": {},
      "outputs": [],
      "source": [
        "# serv_tipo id the variable to test (separating by pipe symbol and categorized with number)\n",
        "\n",
        "services_dict = {\n",
        "  1 :\"asesorialegal\",\n",
        "  2 :\"alimentacionynutricion\",\n",
        "  3 :\"saludprimerosauxiliosyatencionmedica\",\n",
        "  4 :\"aguapotable\",\n",
        "  5 :\"saneamiento\",\n",
        "  6 :\"higiene\",\n",
        "  7 :\"educacion\",\n",
        "  8 :\"alojamientotemporal\",\n",
        "  9 :\"serviciosdeproteccion\",\n",
        "  10 :\"acompañamientoayudapsicosocial\",\n",
        "  11 :\"transportehumanitario\",\n",
        "  12 :\"restablecimientodecontactofamiliar\",\n",
        "  13:\"transferencias\",\n",
        "  14:\"Otro\",\n",
        "}\n",
        "\n",
        "reversed_services_dict = dict( [( x[1],x[0])  for x in services_dict.items()])\n",
        "\n",
        "def codifyServices(x: str, services_dict: dict[str, int]):\n",
        "    raw_values = x.split(\" \")\n",
        "    output = []\n",
        "    for value in raw_values:\n",
        "        try:      \n",
        "          codedValue = services_dict[value]\n",
        "          output.append(str(codedValue) )\n",
        "        except Exception as e:\n",
        "            output.append(\"14\")\n",
        "            \n",
        "    return \"|\".join(output)\n",
        "\n",
        "services_carto[\"serv_tipo1\"] = services_carto[\"serv_tipo\"].apply(lambda x: codifyServices(x, reversed_services_dict))\n",
        "#services_carto[\"serv_tipo1\"]"
      ]
    },
    {
      "cell_type": "code",
      "execution_count": 25,
      "metadata": {},
      "outputs": [
        {
          "data": {
            "text/plain": [
              "0    1|3|6\n",
              "1    1|2|7\n",
              "2    1|4|7\n",
              "3      1|2\n",
              "Name: cuenta_c_1, dtype: object"
            ]
          },
          "execution_count": 25,
          "metadata": {},
          "output_type": "execute_result"
        }
      ],
      "source": [
        "# re structure variable cuenta_con\n",
        "cuenta_con_dict = {\n",
        "  1 :\"accesoaserviciodeinternet\",\n",
        "  2 :\"accesoaservicioelectrico\",\n",
        "  3 :\"areadecomedorescocina\",\n",
        "  4 :\"areaparadisposiciondebasuras\",\n",
        "  5 :\"areascomunes\",\n",
        "  6 :\"areasdelavanderia\",\n",
        "  7 :\"areasderegistrodelapoblacion\",\n",
        "  8 :\"ningunadelasanteriores\",\n",
        "}\n",
        "\n",
        "reversed_cuentacon_dict = dict( [( x[1],x[0])  for x in cuenta_con_dict.items()])\n",
        "\n",
        "def codifyServices(x: str, cuenta_con_dict: dict[str, int]):\n",
        "    raw_values = x.split(\" \")\n",
        "    output = []\n",
        "    for value in raw_values:\n",
        "        try:      \n",
        "          codedValue = cuenta_con_dict [value]\n",
        "          output.append(str(codedValue) )\n",
        "        except Exception as e:\n",
        "            output.append(\"8\")\n",
        "            \n",
        "    return \"|\".join(output)\n",
        "\n",
        "services_carto[\"cuenta_c_1\"] = services_carto[\"cuenta_con\"].apply(lambda x: codifyServices(x, reversed_cuentacon_dict))\n",
        "#services_carto[\"cuenta_c_1\"]"
      ]
    },
    {
      "cell_type": "code",
      "execution_count": 62,
      "metadata": {},
      "outputs": [
        {
          "data": {
            "text/plain": [
              "0      9\n",
              "1      1\n",
              "2      8\n",
              "3    1|6\n",
              "Name: cual_ser_1, dtype: object"
            ]
          },
          "execution_count": 62,
          "metadata": {},
          "output_type": "execute_result"
        }
      ],
      "source": [
        "# re structure variable children services (cual_serv1)\n",
        "cual_serv1_dict = {\n",
        "  1 :\"nnaalimentacionynutricion\",\n",
        "  2 :\"nnaapoyooayudapsicosocial\",\n",
        "  3 :\"nnabanosexclusivosnna\",\n",
        "  4 :\"nnacuidadosalternativos\",\n",
        "  5 :\"nnaentregadekits\",\n",
        "  6 :\"espaciosamigables\",\n",
        "  7 :\"nnagestiondecasos\",\n",
        "  8 :\"nnaotro\",\n",
        "  9 : \" \",\n",
        "}\n",
        "\n",
        "reversed_cual_serv1_dict = dict( [( x[1],x[0])  for x in cual_serv1_dict.items()])\n",
        "\n",
        "def codifyServices(x: str, cual_serv1_dict: dict[str, int]):\n",
        "    raw_values = x.split(\" \")\n",
        "    output = []\n",
        "    for value in raw_values:\n",
        "        try:      \n",
        "          codedValue = cual_serv1_dict [value]\n",
        "          output.append(str(codedValue) )\n",
        "        except Exception as e:\n",
        "            output.append(\"9\")\n",
        "            \n",
        "    return \"|\".join(output)\n",
        "\n",
        "services_carto[\"cual_ser_1\"] = services_carto[\"cual_serv1\"].astype(str).apply(lambda x: codifyServices(x, reversed_cual_serv1_dict))\n",
        "services_carto[\"cual_ser_1\"]"
      ]
    },
    {
      "cell_type": "code",
      "execution_count": 61,
      "metadata": {},
      "outputs": [
        {
          "data": {
            "text/plain": [
              "0    3|6\n",
              "1      1\n",
              "2    1|2\n",
              "3    4|5\n",
              "Name: cual_ser_3, dtype: object"
            ]
          },
          "execution_count": 61,
          "metadata": {},
          "output_type": "execute_result"
        }
      ],
      "source": [
        "# re structure variable women services (cual_ser_2)\n",
        "cual_ser_2_dict = {\n",
        "  1 :\"mujeresapoyonutricionalgestantesylactantes\",\n",
        "  2 :\"mujerescontrolesprenatales\",\n",
        "  3 :\"mujeresduchasobanos\",\n",
        "  4 :\"mujeresespaciosseguros\",\n",
        "  5 :\"mujeresgestiondecasosdeviolenciasbasadasengenero\",\n",
        "  6 :\"mujeresproductosdehigienemenstrual\",\n",
        "  7 :\"mujeresotro\",\n",
        "  8 : \" \",\n",
        "}\n",
        "\n",
        "reversed_cual_ser_2_dict = dict( [( x[1],x[0])  for x in cual_ser_2_dict.items()])\n",
        "\n",
        "def codifyServices(x: str, cual_ser_2_dict: dict[str, int]):\n",
        "    raw_values = x.split(\" \")\n",
        "    output = []\n",
        "    for value in raw_values:\n",
        "        try:      \n",
        "          codedValue = cual_ser_2_dict [value]\n",
        "          output.append(str(codedValue) )\n",
        "        except Exception as e:\n",
        "            output.append(\"8\")\n",
        "            \n",
        "    return \"|\".join(output)\n",
        "\n",
        "services_carto[\"cual_ser_3\"] = services_carto[\"cual_ser_2\"].astype(str).apply(lambda x: codifyServices(x, reversed_cual_ser_2_dict))\n",
        "services_carto[\"cual_ser_3\"]\n"
      ]
    },
    {
      "cell_type": "code",
      "execution_count": 58,
      "metadata": {},
      "outputs": [
        {
          "data": {
            "text/plain": [
              "0        5\n",
              "1        2\n",
              "2    1|2|3\n",
              "3        2\n",
              "Name: almacenamientoregistros_, dtype: object"
            ]
          },
          "execution_count": 58,
          "metadata": {},
          "output_type": "execute_result"
        }
      ],
      "source": [
        "# re structure variable data storage (almacenamientoregistros)\n",
        "registro_dict = {\n",
        "  1 :\"archivofisico\",\n",
        "  2 :\"hojacalculo\",\n",
        "  3 :\"software\",\n",
        "  4 :\"otroalmacenarregistro\",\n",
        "  5 : \" \",\n",
        "}\n",
        "\n",
        "reversed_registro_dict  = dict( [( x[1],x[0])  for x in registro_dict.items()])\n",
        "\n",
        "def codifyServices(x: str, registro_dict: dict[str, int]):\n",
        "    raw_values = x.split(\" \")\n",
        "    output = []\n",
        "    for value in raw_values:\n",
        "        try:      \n",
        "          codedValue = registro_dict [value]\n",
        "          output.append(str(codedValue) )\n",
        "        except Exception as e:\n",
        "            output.append(\"5\")\n",
        "            \n",
        "    return \"|\".join(output)\n",
        "\n",
        "services_carto[\"almacenamientoregistros_\"] = services_carto[\"almacenamientoregistros\"].astype(str).apply(lambda x: codifyServices(x, reversed_registro_dict))\n",
        "services_carto[\"almacenamientoregistros_\"]\n"
      ]
    }
  ],
  "metadata": {
    "kernelspec": {
      "display_name": "base",
      "language": "python",
      "name": "python3"
    },
    "language_info": {
      "codemirror_mode": {
        "name": "ipython",
        "version": 3
      },
      "file_extension": ".py",
      "mimetype": "text/x-python",
      "name": "python",
      "nbconvert_exporter": "python",
      "pygments_lexer": "ipython3",
      "version": "3.11.4"
    },
    "orig_nbformat": 4
  },
  "nbformat": 4,
  "nbformat_minor": 2
}
