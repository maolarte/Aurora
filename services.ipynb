{
 "cells": [
  {
   "cell_type": "code",
   "execution_count": 20,
   "metadata": {},
   "outputs": [
    {
     "name": "stderr",
     "output_type": "stream",
     "text": [
      "c:\\Users\\User\\anaconda3\\lib\\site-packages\\pandas\\util\\_decorators.py:311: ParserWarning: Length of header or names does not match length of data. This leads to a loss of data with index_col=False.\n",
      "  return func(*args, **kwargs)\n"
     ]
    }
   ],
   "source": [
    "import pandas as pd\n",
    "\n",
    "# Import dataset\n",
    "services = pd.read_csv('Aurora_Office_Fase_2_-_all_versions_-_False_-_2023-09-20-21-01-20.csv', sep=';', index_col = False)\n",
    "\n",
    "# rename variables\n",
    "# Are still missing the ones related to schedule\n",
    "newColumns = {'_coordenadas_latitude': 'lat', \n",
    "              '_coordenadas_longitude' : 'long',  \n",
    "              'pais' : 'ubicacion' , \n",
    "              'punto_reporte' : 'lugar_enc', \n",
    "              'ubicacion' : 'punto_ayud', \n",
    "              'cualotropunto' : 'punto_ayud_otro', \n",
    "              'infraestructura' : 'cuenta_con' , \n",
    "              'sexo' : 'identifica', \n",
    "              'organizacionpertence' : 'org_pert', \n",
    "              'infraestructuradiscapacidad' : 'serv_disca' , \n",
    "              'servicios' : 'serv_tipo'}\n",
    "services_carto = services.rename(columns=newColumns)"
   ]
  },
  {
   "cell_type": "code",
   "execution_count": 21,
   "metadata": {},
   "outputs": [],
   "source": [
    "# serv_tipo id the variable to test (separating by pipe symbol and categorized with number)\n",
    "# asesorialegal : 1\n",
    "# alimentacionynutricion : 2\n",
    "# saludprimerosauxiliosyatencionmedica: 3\n",
    "# aguapotable: 4\n",
    "# saneamiento: 5\n",
    "# higiene: 6\n",
    "# educacion: 7\n",
    "# alojamientotemporal: 8\n",
    "# serviciosdeproteccion : 9\n",
    "# acompañamientoayudapsicosocial: 10\n",
    "# transportehumanitario: 11\n",
    "# restablecimientodecontactofamiliar : 12\n",
    "# transferencias: 13\n",
    "# otro: 14\n",
    "#\n",
    "services_dict = {\n",
    "  1 :\"asesorialegal\",\n",
    "  2 :\"alimentacionynutricion\",\n",
    "  3 :\"saludprimerosauxiliosyatencionmedica\",\n",
    "  4 :\"aguapotable\",\n",
    "  5 :\"saneamiento\",\n",
    "  6 :\"higiene\",\n",
    "  7 :\"educacion\",\n",
    "  8 :\"alojamientotemporal\",\n",
    "  9 :\"serviciosdeproteccion\",\n",
    "  10 :\"acompañamientoayudapsicosocial\",\n",
    "  11 :\"transportehumanitario\",\n",
    "  12 :\"restablecimientodecontactofamiliar\",\n",
    "  13:\"transferencias\",\n",
    "  14:\"Otro\",\n",
    "}\n",
    "\n",
    "reversed_services_dict = dict( [( x[1],x[0])  for x in services_dict.items()])\n",
    "\n",
    "def codifyServices(x: str, services_dict: dict[str, int]):\n",
    "    raw_values = x.split(\" \")\n",
    "    output = []\n",
    "    for value in raw_values:\n",
    "        try:      \n",
    "          codedValue = services_dict[value]\n",
    "          output.append(str(codedValue) )\n",
    "        except Exception as e:\n",
    "            output.append(\"14\")\n",
    "            \n",
    "    return \"|\".join(output)\n",
    "\n",
    "services_carto[\"serv_tipo\"] = services_carto[\"serv_tipo\"].apply(lambda x: codifyServices(x, reversed_services_dict))"
   ]
  },
  {
   "cell_type": "code",
   "execution_count": 22,
   "metadata": {},
   "outputs": [
    {
     "data": {
      "text/plain": [
       "0    10|4|7|14\n",
       "1        10|14\n",
       "2         12|3\n",
       "3      10|8|14\n",
       "Name: serv_tipo, dtype: object"
      ]
     },
     "execution_count": 22,
     "metadata": {},
     "output_type": "execute_result"
    }
   ],
   "source": [
    "services_carto[\"serv_tipo\"]"
   ]
  },
  {
   "cell_type": "code",
   "execution_count": null,
   "metadata": {},
   "outputs": [],
   "source": []
  }
 ],
 "metadata": {
  "kernelspec": {
   "display_name": "base",
   "language": "python",
   "name": "python3"
  },
  "language_info": {
   "codemirror_mode": {
    "name": "ipython",
    "version": 3
   },
   "file_extension": ".py",
   "mimetype": "text/x-python",
   "name": "python",
   "nbconvert_exporter": "python",
   "pygments_lexer": "ipython3",
   "version": "3.9.7"
  },
  "orig_nbformat": 4
 },
 "nbformat": 4,
 "nbformat_minor": 2
}
