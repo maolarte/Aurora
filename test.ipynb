{
 "cells": [
  {
   "cell_type": "code",
   "execution_count": 44,
   "metadata": {},
   "outputs": [],
   "source": [
    "from modules.custom_io import useCartoAuth, getCartoClient, getCartoToken\n",
    "from pandas import DataFrame"
   ]
  },
  {
   "cell_type": "code",
   "execution_count": 3,
   "metadata": {},
   "outputs": [],
   "source": [
    "carto_auth_client = useCartoAuth()"
   ]
  },
  {
   "cell_type": "code",
   "execution_count": 4,
   "metadata": {},
   "outputs": [],
   "source": [
    "token = getCartoClient(carto_auth_client)\n",
    "carto_client = getCartoClient(carto_auth_client)"
   ]
  },
  {
   "cell_type": "code",
   "execution_count": 37,
   "metadata": {},
   "outputs": [],
   "source": [
    "project_list = list(carto_client.list_datasets(project=\"carto-dw-ac-4v8fnfsh\"))"
   ]
  },
  {
   "cell_type": "code",
   "execution_count": 39,
   "metadata": {},
   "outputs": [
    {
     "name": "stdout",
     "output_type": "stream",
     "text": [
      "private_aclavijo_c8f7e1ef\n",
      "shared\n",
      "workflows_temp_aclavijo_c8f7e1ef\n"
     ]
    }
   ],
   "source": [
    "for project in project_list:\n",
    "    print(project.dataset_id)"
   ]
  },
  {
   "cell_type": "code",
   "execution_count": 42,
   "metadata": {},
   "outputs": [],
   "source": [
    "tables = list(carto_client.list_tables(\"shared\"))\n",
    "table_list = []\n",
    "for table in tables:\n",
    "    table_list.append({\n",
    "        \"dataset_id\": table.dataset_id,\n",
    "        \"table_id\": table.table_id,\n",
    "        \"project\": table.project,\n",
    "        \"destination\": f\"{table.project}.{table.dataset_id}.{table.table_id}\"\n",
    "    })"
   ]
  },
  {
   "cell_type": "code",
   "execution_count": 45,
   "metadata": {},
   "outputs": [],
   "source": [
    "for table in table_list:\n",
    "    table_data = carto_client.get_table(table[\"destination\"])\n",
    "    df: DataFrame = carto_client.list_rows(table_data).to_dataframe()\n",
    "    df.to_csv(f\"backup/{table['table_id']}.csv\")"
   ]
  },
  {
   "cell_type": "code",
   "execution_count": null,
   "metadata": {},
   "outputs": [],
   "source": []
  }
 ],
 "metadata": {
  "kernelspec": {
   "display_name": "Python 3",
   "language": "python",
   "name": "python3"
  },
  "language_info": {
   "codemirror_mode": {
    "name": "ipython",
    "version": 3
   },
   "file_extension": ".py",
   "mimetype": "text/x-python",
   "name": "python",
   "nbconvert_exporter": "python",
   "pygments_lexer": "ipython3",
   "version": "3.11.7"
  }
 },
 "nbformat": 4,
 "nbformat_minor": 2
}
